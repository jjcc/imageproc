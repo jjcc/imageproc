{
 "cells": [
  {
   "cell_type": "code",
   "execution_count": 12,
   "metadata": {},
   "outputs": [
    {
     "data": {
      "text/plain": [
       "<Figure size 144x144 with 0 Axes>"
      ]
     },
     "metadata": {},
     "output_type": "display_data"
    },
    {
     "data": {
      "image/png": "[encoded data removed]",
      "text/plain": [
       "<Figure size 720x360 with 1 Axes>"
      ]
     },
     "metadata": {},
     "output_type": "display_data"
    },
    {
     "data": {
      "text/plain": [
       "True"
      ]
     },
     "execution_count": 12,
     "metadata": {},
     "output_type": "execute_result"
    }
   ],
   "source": [
    "# -*- coding: utf-8 -*-\n",
    "from matplotlib import pyplot as plt\n",
    "import cv2\n",
    "import numpy as np\n",
    "\n",
    "#myimg = np\n",
    "def paint_block(rgb):\n",
    "    #img = np.zeros([50,50,3])\n",
    "    img = np.ones([50,50,3], dtype=np.uint8)\n",
    "    # t0 = t.time()\n",
    "    img[:,:,0] = rgb[0]#/255.0\n",
    "    img[:,:,1] = rgb[1]#/255.0\n",
    "    img[:,:,2] = rgb[2]#/255.0\n",
    "    return img\n",
    "\n",
    "plt.figure(figsize=(2,2))\n",
    "\n",
    "#colors = [0xADFF2F,0xFFFF00,0x93D2D4,0xD2691E,0x967EC7,0xFFFFFF,0x000000,0xFFB7AF,0xE24060,0xFF98E65]\n",
    "colors = [0x000000,0xE24060,0xD2691E,0x967EC7,0xFF98E65,0x93D2D4,0xFFB7AF,0xADFF2F,0xFFFF00,0xFFFFFF]\n",
    "\n",
    "temp = paint_block([0xff,0,0])\n",
    "for color in colors:\n",
    "    r = color>>16\n",
    "    g = (color & 0xff00)>>8\n",
    "    b = color & 0xff\n",
    "    rgb = [r,g,b]\n",
    "    img = paint_block(rgb)\n",
    "   \n",
    "    merged = cv2.hconcat((temp, img))\n",
    "    temp = merged\n",
    "\n",
    "\n",
    "#plt.title('my picture')\n",
    "\n",
    "plt.figure(figsize=(10,5))\n",
    "plt.axis(\"off\")\n",
    "\n",
    "\n",
    "plt.imshow(temp)\n",
    "\n",
    "\n",
    "#plt.title('my picture')\n",
    "plt.show()\n",
    "\n",
    "\n",
    "imgsave = img# cv2.cvtColor(img, cv2.COLOR_BGR2RGB)\n",
    "cv2.imwrite('myrgb.png',imgsave)"
   ]
  },
  {
   "cell_type": "code",
   "execution_count": null,
   "metadata": {},
   "outputs": [],
   "source": []
  },
  {
   "cell_type": "code",
   "execution_count": null,
   "metadata": {},
   "outputs": [],
   "source": []
  }
 ],
 "metadata": {
  "kernelspec": {
   "display_name": "Python 3",
   "language": "python",
   "name": "python3"
  },
  "language_info": {
   "codemirror_mode": {
    "name": "ipython",
    "version": 3
   },
   "file_extension": ".py",
   "mimetype": "text/x-python",
   "name": "python",
   "nbconvert_exporter": "python",
   "pygments_lexer": "ipython3",
   "version": "3.6.5"
  }
 },
 "nbformat": 4,
 "nbformat_minor": 2
}
