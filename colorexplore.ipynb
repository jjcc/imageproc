{
 "cells": [
  {
   "cell_type": "code",
   "execution_count": 2,
   "metadata": {},
   "outputs": [
    {
     "data": {
      "image/png": "[encoded data removed]",
      "text/plain": [
       "<Figure size 144x144 with 1 Axes>"
      ]
     },
     "metadata": {},
     "output_type": "display_data"
    },
    {
     "name": "stderr",
     "output_type": "stream",
     "text": [
      "Clipping input data to the valid range for imshow with RGB data ([0..1] for floats or [0..255] for integers).\n"
     ]
    },
    {
     "data": {
      "image/png": "[encoded data removed]",
      "text/plain": [
       "<Figure size 360x360 with 1 Axes>"
      ]
     },
     "metadata": {},
     "output_type": "display_data"
    },
    {
     "data": {
      "text/plain": [
       "True"
      ]
     },
     "execution_count": 2,
     "metadata": {},
     "output_type": "execute_result"
    }
   ],
   "source": [
    "# -*- coding: utf-8 -*-\n",
    "from matplotlib import pyplot as plt\n",
    "import cv2\n",
    "import numpy as np\n",
    "\n",
    "#myimg = np\n",
    "def paint_block(rgb):\n",
    "    #img = np.zeros([50,50,3])\n",
    "    img = np.ones([50,50,3])\n",
    "    # t0 = t.time()\n",
    "    # np_rgb[:,:,0] = image[:,:,2]\n",
    "    # np_rgb[:,:,1] = image[:,:,1]\n",
    "    # np_rgb[:,:,2] = image[:,:,0]\n",
    "    img[:,:,0] = rgb[0]/255.0\n",
    "    img[:,:,1] = rgb[1]/255.0\n",
    "    img[:,:,2] = rgb[2]/255.0\n",
    "    return img\n",
    "\n",
    "plt.figure(figsize=(2,2))\n",
    "\n",
    "colors = [0xADFF2F,0xFFFF00,0x93D2D4,0xD2691E,0x967EC7,0xFFFFFF,0x000000,0xFFB7AF,0xE24060,0xFF98E65]\n",
    "\n",
    "temp = paint_block([0xff,0,0])\n",
    "for color in colors:\n",
    "    r = color>>16\n",
    "    g = (color & 0xff00)>>8\n",
    "    b = color & 0xff\n",
    "    rgb = [r,g,b]\n",
    "    img = paint_block(rgb)\n",
    "   \n",
    "    merged = cv2.hconcat((temp, img))\n",
    "    temp = merged\n",
    "\n",
    "cv2.imwrite('merged.png',temp)\n",
    "color = [0xFF,0xFF,0]\n",
    "img = paint_block(color)\n",
    "plt.subplot(2,5,1)\n",
    "plt.imshow(img)\n",
    "#plt.title('my picture')\n",
    "plt.show()\n",
    "plt.figure(figsize=(5,5))\n",
    "color2 = [0xFF,0,0]\n",
    "img2 = paint_block(color2)\n",
    "#plt.subplot(2,5,3)\n",
    "final_img = cv2.hconcat((img,img2))\n",
    "plt.imshow(final_img)\n",
    "plt.imshow(temp)\n",
    "\n",
    "\n",
    "#plt.title('my picture')\n",
    "plt.show()\n",
    "\n",
    "\n",
    "imgsave = img# cv2.cvtColor(img, cv2.COLOR_BGR2RGB)\n",
    "cv2.imwrite('myrgb.png',imgsave)"
   ]
  },
  {
   "cell_type": "code",
   "execution_count": null,
   "metadata": {},
   "outputs": [],
   "source": []
  },
  {
   "cell_type": "code",
   "execution_count": null,
   "metadata": {},
   "outputs": [],
   "source": []
  }
 ],
 "metadata": {
  "kernelspec": {
   "display_name": "Python 3",
   "language": "python",
   "name": "python3"
  },
  "language_info": {
   "codemirror_mode": {
    "name": "ipython",
    "version": 3
   },
   "file_extension": ".py",
   "mimetype": "text/x-python",
   "name": "python",
   "nbconvert_exporter": "python",
   "pygments_lexer": "ipython3",
   "version": "3.6.5"
  }
 },
 "nbformat": 4,
 "nbformat_minor": 2
}
